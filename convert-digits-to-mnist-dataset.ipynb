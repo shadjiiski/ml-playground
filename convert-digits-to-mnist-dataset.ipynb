{
 "cells": [
  {
   "cell_type": "code",
   "execution_count": 1,
   "metadata": {},
   "outputs": [],
   "source": [
    "from PIL import Image\n",
    "import numpy\n",
    "import pickle\n",
    "import gzip\n",
    "\n",
    "DIGITS_FOLDER='E:/ml/mnist/digits/'\n",
    "SAVED_DATASET='E:/ml/datasets/my_mnist.pkl.gz'\n",
    "\n",
    "def load_digit(k):\n",
    "    return numpy.array(\n",
    "        Image.open('%s%d.png' % (DIGITS_FOLDER, k)),\n",
    "        dtype=numpy.float32\n",
    "    ).flatten() / 255\n",
    "\n",
    "dataset = (\n",
    "    numpy.array(\n",
    "        [load_digit(i) for i in range(10)],\n",
    "        dtype=numpy.float32),\n",
    "    numpy.array(\n",
    "        [i  for i in range(10)],\n",
    "        dtype=numpy.int64\n",
    "    )\n",
    ")\n",
    "\n",
    "with gzip.open(SAVED_DATASET, 'wb') as f:\n",
    "    pickle.dump(dataset, f)"
   ]
  }
 ],
 "metadata": {
  "kernelspec": {
   "display_name": "Python 3",
   "language": "python",
   "name": "python3"
  },
  "language_info": {
   "codemirror_mode": {
    "name": "ipython",
    "version": 3
   },
   "file_extension": ".py",
   "mimetype": "text/x-python",
   "name": "python",
   "nbconvert_exporter": "python",
   "pygments_lexer": "ipython3",
   "version": "3.7.2"
  }
 },
 "nbformat": 4,
 "nbformat_minor": 2
}
